{
 "cells": [
  {
   "cell_type": "code",
   "execution_count": 37,
   "metadata": {},
   "outputs": [],
   "source": [
    "import numpy as np\n",
    "\n",
    "def ordered_array(j, k):\n",
    "    array = np.array([[m + (k*n) for m in range(k)] for n in range(j)])\n",
    "    print('Array Original :\\n', array, end='\\n\\n')\n",
    "    return array\n",
    "\n",
    "\n",
    "def random_array(j, k):\n",
    "    array = np.random.randint(0, 100, (j, k))\n",
    "    print('Array Original :\\n', array, end='\\n\\n')\n",
    "    return array"
   ]
  },
  {
   "cell_type": "markdown",
   "metadata": {},
   "source": [
    "Exercício 1: Crie um array de 10 elementos. Depois, altere os valores de todos os\n",
    "elementos com índices de 5 a 8 para 0."
   ]
  },
  {
   "cell_type": "code",
   "execution_count": 38,
   "metadata": {},
   "outputs": [
    {
     "name": "stdout",
     "output_type": "stream",
     "text": [
      "Array Original :\n",
      " [0 1 2 3 4 5 6 7 8 9]\n",
      "\n",
      "Array Modificado:\n",
      " [0 1 2 3 4 0 0 0 8 9]\n"
     ]
    }
   ],
   "source": [
    "a = np.array([i for i in range(10)])\n",
    "print('Array Original :\\n', a, end='\\n\\n')\n",
    "\n",
    "a[5:8] = 0\n",
    "print('Array Modificado:\\n', a)"
   ]
  },
  {
   "cell_type": "markdown",
   "metadata": {},
   "source": [
    "Exercício 2: Crie um array com 3 linhas e 2 colunas. Depois imprima o shape e a 2ª\n",
    "linha da matriz."
   ]
  },
  {
   "cell_type": "code",
   "execution_count": 39,
   "metadata": {},
   "outputs": [
    {
     "name": "stdout",
     "output_type": "stream",
     "text": [
      "Array Original :\n",
      " [[0 1]\n",
      " [2 3]\n",
      " [4 5]]\n",
      "\n",
      "Shape:  (3, 2)\n",
      "2ª Linha:\n",
      " [2 3]\n"
     ]
    }
   ],
   "source": [
    "a = ordered_array(3, 2)\n",
    "print('Shape: ', np.shape(a))\n",
    "print('2ª Linha:\\n', a[1])"
   ]
  },
  {
   "cell_type": "markdown",
   "metadata": {},
   "source": [
    "Exercício 3: Crie um array com 3 linhas e 2 colunas. Depois imprima a 2ª coluna."
   ]
  },
  {
   "cell_type": "code",
   "execution_count": 40,
   "metadata": {},
   "outputs": [
    {
     "name": "stdout",
     "output_type": "stream",
     "text": [
      "Array Original :\n",
      " [[0 1]\n",
      " [2 3]\n",
      " [4 5]]\n",
      "\n",
      "2ª Coluna:\n",
      " [1 3 5]\n"
     ]
    }
   ],
   "source": [
    "a = ordered_array(3, 2)\n",
    "print('2ª Coluna:\\n', a[:,1])"
   ]
  },
  {
   "cell_type": "markdown",
   "metadata": {},
   "source": [
    "Exercício 4: Crie um array de com 4 linhas e 5 colunas. Depois imprima os elementos\n",
    "da terceira linha da matriz."
   ]
  },
  {
   "cell_type": "code",
   "execution_count": 41,
   "metadata": {},
   "outputs": [
    {
     "name": "stdout",
     "output_type": "stream",
     "text": [
      "Array Original :\n",
      " [[ 0  1  2  3  4]\n",
      " [ 5  6  7  8  9]\n",
      " [10 11 12 13 14]\n",
      " [15 16 17 18 19]]\n",
      "\n",
      "3ª Linha:\n",
      " [10 11 12 13 14]\n"
     ]
    }
   ],
   "source": [
    "a = ordered_array(4, 5)\n",
    "print('3ª Linha:\\n', a[2])"
   ]
  },
  {
   "cell_type": "markdown",
   "metadata": {},
   "source": [
    "Exercício 5: Crie um array de com 4 linhas e 5 colunas. Depois imprima todos os\n",
    "elementos da primeira e segunda linhas e segunda a terceira colunas."
   ]
  },
  {
   "cell_type": "code",
   "execution_count": 42,
   "metadata": {},
   "outputs": [
    {
     "name": "stdout",
     "output_type": "stream",
     "text": [
      "Array Original :\n",
      " [[ 0  1  2  3  4]\n",
      " [ 5  6  7  8  9]\n",
      " [10 11 12 13 14]\n",
      " [15 16 17 18 19]]\n",
      "\n",
      "1ª e 2ª Linhas, 2ª e 3ª Colunas:\n",
      " [[1 2]\n",
      " [6 7]]\n"
     ]
    }
   ],
   "source": [
    "a = ordered_array(4, 5)\n",
    "print('1ª e 2ª Linhas, 2ª e 3ª Colunas:\\n', a[0:2, 1:3])"
   ]
  },
  {
   "cell_type": "markdown",
   "metadata": {},
   "source": [
    "Exercício 6: Crie um array de com 4 linhas e 5 colunas. Depois imprima todos os\n",
    "elementos da segunda e terceira linhas e primeira a terceira colunas."
   ]
  },
  {
   "cell_type": "code",
   "execution_count": 43,
   "metadata": {},
   "outputs": [
    {
     "name": "stdout",
     "output_type": "stream",
     "text": [
      "Array Original :\n",
      " [[ 0  1  2  3  4]\n",
      " [ 5  6  7  8  9]\n",
      " [10 11 12 13 14]\n",
      " [15 16 17 18 19]]\n",
      "\n",
      "2ª e 3ª Linhas, 1ª a 3ª Colunas:\n",
      " [[ 5  6  7]\n",
      " [10 11 12]]\n"
     ]
    }
   ],
   "source": [
    "a = ordered_array(4, 5)\n",
    "print('2ª e 3ª Linhas, 1ª a 3ª Colunas:\\n',a[1:3, 0:3])"
   ]
  }
 ],
 "metadata": {
  "kernelspec": {
   "display_name": "Python 3",
   "language": "python",
   "name": "python3"
  },
  "language_info": {
   "codemirror_mode": {
    "name": "ipython",
    "version": 3
   },
   "file_extension": ".py",
   "mimetype": "text/x-python",
   "name": "python",
   "nbconvert_exporter": "python",
   "pygments_lexer": "ipython3",
   "version": "3.12.5"
  }
 },
 "nbformat": 4,
 "nbformat_minor": 2
}
