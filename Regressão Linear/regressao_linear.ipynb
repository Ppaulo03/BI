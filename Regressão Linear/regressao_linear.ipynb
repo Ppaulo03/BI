{
 "cells": [
  {
   "cell_type": "code",
   "execution_count": 10,
   "id": "decbdea4",
   "metadata": {},
   "outputs": [],
   "source": [
    "import numpy as np\n",
    "import pandas as pd\n",
    "import matplotlib.pyplot as plt\n",
    "import seaborn as sb"
   ]
  },
  {
   "cell_type": "code",
   "execution_count": 11,
   "id": "01886824",
   "metadata": {},
   "outputs": [],
   "source": [
    "url = 'https://raw.githubusercontent.com/Ujeverson/datasets/main/Salary_Data.csv'"
   ]
  },
  {
   "cell_type": "code",
   "execution_count": 12,
   "id": "fceffd77",
   "metadata": {},
   "outputs": [
    {
     "data": {
      "text/plain": [
       "<matplotlib.collections.PathCollection at 0x1f8cc059bb0>"
      ]
     },
     "execution_count": 12,
     "metadata": {},
     "output_type": "execute_result"
    },
    {
     "data": {
      "image/png": "[encoded data removed]",
      "text/plain": [
       "<Figure size 640x480 with 1 Axes>"
      ]
     },
     "metadata": {},
     "output_type": "display_data"
    }
   ],
   "source": [
    "wage = pd.read_csv(url)\n",
    "x = wage['YearsExperience']\n",
    "y = wage['Salary']\n",
    "plt.scatter(x, y, color='purple')"
   ]
  },
  {
   "cell_type": "code",
   "execution_count": 13,
   "id": "687eee55",
   "metadata": {},
   "outputs": [
    {
     "data": {
      "text/plain": [
       "np.float64(159.4)"
      ]
     },
     "execution_count": 13,
     "metadata": {},
     "output_type": "execute_result"
    }
   ],
   "source": [
    "xs = x.sum()\n",
    "xs"
   ]
  },
  {
   "cell_type": "code",
   "execution_count": 14,
   "id": "8e782a48",
   "metadata": {},
   "outputs": [
    {
     "data": {
      "text/plain": [
       "np.float64(2280090.0)"
      ]
     },
     "execution_count": 14,
     "metadata": {},
     "output_type": "execute_result"
    }
   ],
   "source": [
    "ys = y.sum()\n",
    "ys"
   ]
  },
  {
   "cell_type": "code",
   "execution_count": 15,
   "id": "11104c58",
   "metadata": {},
   "outputs": [
    {
     "data": {
      "text/plain": [
       "0       43277.3\n",
       "1       60066.5\n",
       "2       56596.5\n",
       "3       87050.0\n",
       "4       87760.2\n",
       "5      164261.8\n",
       "6      180450.0\n",
       "7      174224.0\n",
       "8      206224.0\n",
       "9      211599.3\n",
       "10     246550.2\n",
       "11     223176.0\n",
       "12     227828.0\n",
       "13     234032.1\n",
       "14     274999.5\n",
       "15     332896.2\n",
       "16     336747.9\n",
       "17     440366.4\n",
       "18     480041.7\n",
       "19     563640.0\n",
       "20     623818.4\n",
       "21     697738.3\n",
       "22     800285.8\n",
       "23     933258.4\n",
       "24     952049.7\n",
       "25     950238.0\n",
       "26    1111205.5\n",
       "27    1081296.0\n",
       "28    1260627.3\n",
       "29    1279656.0\n",
       "dtype: float64"
      ]
     },
     "execution_count": 15,
     "metadata": {},
     "output_type": "execute_result"
    }
   ],
   "source": [
    "xy = x*y\n",
    "xy"
   ]
  },
  {
   "cell_type": "code",
   "execution_count": 16,
   "id": "7e42a7d5",
   "metadata": {},
   "outputs": [
    {
     "data": {
      "text/plain": [
       "np.float64(14321961.0)"
      ]
     },
     "execution_count": 16,
     "metadata": {},
     "output_type": "execute_result"
    }
   ],
   "source": [
    "xys = xy.sum()\n",
    "xys"
   ]
  },
  {
   "cell_type": "code",
   "execution_count": 17,
   "id": "930ab0d1",
   "metadata": {},
   "outputs": [
    {
     "data": {
      "text/plain": [
       "0       1.21\n",
       "1       1.69\n",
       "2       2.25\n",
       "3       4.00\n",
       "4       4.84\n",
       "5       8.41\n",
       "6       9.00\n",
       "7      10.24\n",
       "8      10.24\n",
       "9      13.69\n",
       "10     15.21\n",
       "11     16.00\n",
       "12     16.00\n",
       "13     16.81\n",
       "14     20.25\n",
       "15     24.01\n",
       "16     26.01\n",
       "17     28.09\n",
       "18     34.81\n",
       "19     36.00\n",
       "20     46.24\n",
       "21     50.41\n",
       "22     62.41\n",
       "23     67.24\n",
       "24     75.69\n",
       "25     81.00\n",
       "26     90.25\n",
       "27     92.16\n",
       "28    106.09\n",
       "29    110.25\n",
       "Name: YearsExperience, dtype: float64"
      ]
     },
     "execution_count": 17,
     "metadata": {},
     "output_type": "execute_result"
    }
   ],
   "source": [
    "x2 = x**2\n",
    "x2"
   ]
  },
  {
   "cell_type": "code",
   "execution_count": 18,
   "id": "abe7c464",
   "metadata": {},
   "outputs": [
    {
     "data": {
      "text/plain": [
       "np.float64(1080.5)"
      ]
     },
     "execution_count": 18,
     "metadata": {},
     "output_type": "execute_result"
    }
   ],
   "source": [
    "x2s = x2.sum()\n",
    "x2s"
   ]
  },
  {
   "cell_type": "code",
   "execution_count": 19,
   "id": "e2139b05",
   "metadata": {},
   "outputs": [
    {
     "data": {
      "text/plain": [
       "30"
      ]
     },
     "execution_count": 19,
     "metadata": {},
     "output_type": "execute_result"
    }
   ],
   "source": [
    "n = len(wage)\n",
    "n"
   ]
  },
  {
   "cell_type": "code",
   "execution_count": 20,
   "id": "cad5d6f8",
   "metadata": {},
   "outputs": [
    {
     "name": "stdout",
     "output_type": "stream",
     "text": [
      "9449.962321455077\n",
      "9449.96\n"
     ]
    }
   ],
   "source": [
    "a = (n*xys - xs*ys) / (n*x2s - xs**2)\n",
    "print(a)\n",
    "print(round(a, 2))"
   ]
  },
  {
   "cell_type": "code",
   "execution_count": 21,
   "id": "a73f8baf",
   "metadata": {},
   "outputs": [
    {
     "name": "stdout",
     "output_type": "stream",
     "text": [
      "25792.200198668685\n",
      "25792.2\n"
     ]
    }
   ],
   "source": [
    "b = (ys - a*xs) / n\n",
    "print(b)\n",
    "print(round(b, 2))"
   ]
  },
  {
   "cell_type": "code",
   "execution_count": 22,
   "id": "5f327937",
   "metadata": {},
   "outputs": [
    {
     "data": {
      "text/plain": [
       "np.float64(73042.01180594407)"
      ]
     },
     "execution_count": 22,
     "metadata": {},
     "output_type": "execute_result"
    }
   ],
   "source": [
    "xyears = 5\n",
    "ysalary = a*xyears + b\n",
    "ysalary"
   ]
  },
  {
   "cell_type": "code",
   "execution_count": 24,
   "id": "83e5a7dc",
   "metadata": {},
   "outputs": [
    {
     "data": {
      "text/plain": [
       "[np.float64(36187.15875226927),\n",
       " np.float64(38077.15121656028),\n",
       " np.float64(39967.1436808513),\n",
       " np.float64(44692.12484157884),\n",
       " np.float64(46582.117305869855),\n",
       " np.float64(53197.09093088841),\n",
       " np.float64(54142.08716303392),\n",
       " np.float64(56032.07962732493),\n",
       " np.float64(56032.07962732493),\n",
       " np.float64(60757.06078805248),\n",
       " np.float64(62647.05325234348),\n",
       " np.float64(63592.04948448899),\n",
       " np.float64(63592.04948448899),\n",
       " np.float64(64537.0457166345),\n",
       " np.float64(68317.03064521654),\n",
       " np.float64(72097.01557379856),\n",
       " np.float64(73987.00803808958),\n",
       " np.float64(75877.0005023806),\n",
       " np.float64(81546.97789525364),\n",
       " np.float64(82491.97412739915),\n",
       " np.float64(90051.94398456322),\n",
       " np.float64(92886.93268099973),\n",
       " np.float64(100446.90253816379),\n",
       " np.float64(103281.8912346003),\n",
       " np.float64(108006.87239532785),\n",
       " np.float64(110841.86109176438),\n",
       " np.float64(115566.84225249192),\n",
       " np.float64(116511.83848463742),\n",
       " np.float64(123126.81210965599),\n",
       " np.float64(125016.804573947)]"
      ]
     },
     "execution_count": 24,
     "metadata": {},
     "output_type": "execute_result"
    }
   ],
   "source": [
    "previsoes = []\n",
    "\n",
    "for elemento in x:\n",
    "    ypred = a*elemento + b\n",
    "    previsoes.append(ypred)\n",
    "previsoes"
   ]
  },
  {
   "cell_type": "code",
   "execution_count": null,
   "id": "26f6b2da",
   "metadata": {},
   "outputs": [],
   "source": [
    "wage['predicao'] = previsoes\n"
   ]
  },
  {
   "cell_type": "code",
   "execution_count": 25,
   "id": "8d2b5ba1",
   "metadata": {},
   "outputs": [
    {
     "data": {
      "text/plain": [
       "[<matplotlib.lines.Line2D at 0x1f8cc9a8080>]"
      ]
     },
     "execution_count": 25,
     "metadata": {},
     "output_type": "execute_result"
    },
    {
     "data": {
      "image/png": "[encoded data removed]",
      "text/plain": [
       "<Figure size 640x480 with 1 Axes>"
      ]
     },
     "metadata": {},
     "output_type": "display_data"
    }
   ],
   "source": [
    "plt.scatter(x, y, color='purple')\n",
    "plt.plot(x, previsoes, color='green')"
   ]
  },
  {
   "cell_type": "code",
   "execution_count": 23,
   "id": "01ef96eb",
   "metadata": {},
   "outputs": [
    {
     "data": {
      "image/png": "[encoded data removed]",
      "text/plain": [
       "<Figure size 640x480 with 1 Axes>"
      ]
     },
     "metadata": {},
     "output_type": "display_data"
    }
   ],
   "source": [
    "wage2 = pd.read_csv(url)\n",
    "previsoes2 = sb.regplot(x='YearsExperience', y='Salary', data=wage2, color='purple')"
   ]
  },
  {
   "cell_type": "code",
   "execution_count": 30,
   "id": "bb0e8658",
   "metadata": {},
   "outputs": [],
   "source": [
    "import statsmodels.api as sm\n",
    "model = sm.OLS.from_formula('Salary ~ YearsExperience', data=wage2)\n",
    "results = model.fit()"
   ]
  },
  {
   "cell_type": "code",
   "execution_count": 8,
   "id": "fb66b238",
   "metadata": {},
   "outputs": [
    {
     "data": {
      "text/plain": [
       "Intercept          25792.200199\n",
       "YearsExperience     9449.962321\n",
       "dtype: float64"
      ]
     },
     "execution_count": 8,
     "metadata": {},
     "output_type": "execute_result"
    }
   ],
   "source": [
    "results.params"
   ]
  },
  {
   "cell_type": "code",
   "execution_count": 32,
   "id": "485a51d7",
   "metadata": {},
   "outputs": [
    {
     "ename": "TypeError",
     "evalue": "unsupported operand type(s) for *: 'float' and 'dict'",
     "output_type": "error",
     "traceback": [
      "\u001b[31m---------------------------------------------------------------------------\u001b[39m",
      "\u001b[31mTypeError\u001b[39m                                 Traceback (most recent call last)",
      "\u001b[36mCell\u001b[39m\u001b[36m \u001b[39m\u001b[32mIn[32]\u001b[39m\u001b[32m, line 2\u001b[39m\n\u001b[32m      1\u001b[39m xyears2 = \u001b[32m5\u001b[39m\n\u001b[32m----> \u001b[39m\u001b[32m2\u001b[39m \u001b[43mmodel\u001b[49m\u001b[43m.\u001b[49m\u001b[43mpredict\u001b[49m\u001b[43m(\u001b[49m\u001b[43m{\u001b[49m\u001b[33;43m'\u001b[39;49m\u001b[33;43mYearsExperience\u001b[39;49m\u001b[33;43m'\u001b[39;49m\u001b[43m:\u001b[49m\u001b[43m \u001b[49m\u001b[43mxyears2\u001b[49m\u001b[43m}\u001b[49m\u001b[43m)\u001b[49m\n",
      "\u001b[36mFile \u001b[39m\u001b[32mc:\\Users\\Aluno\\Desktop\\BI__\\venv\\Lib\\site-packages\\statsmodels\\regression\\linear_model.py:409\u001b[39m, in \u001b[36mRegressionModel.predict\u001b[39m\u001b[34m(self, params, exog)\u001b[39m\n\u001b[32m    406\u001b[39m \u001b[38;5;28;01mif\u001b[39;00m exog \u001b[38;5;129;01mis\u001b[39;00m \u001b[38;5;28;01mNone\u001b[39;00m:\n\u001b[32m    407\u001b[39m     exog = \u001b[38;5;28mself\u001b[39m.exog\n\u001b[32m--> \u001b[39m\u001b[32m409\u001b[39m \u001b[38;5;28;01mreturn\u001b[39;00m \u001b[43mnp\u001b[49m\u001b[43m.\u001b[49m\u001b[43mdot\u001b[49m\u001b[43m(\u001b[49m\u001b[43mexog\u001b[49m\u001b[43m,\u001b[49m\u001b[43m \u001b[49m\u001b[43mparams\u001b[49m\u001b[43m)\u001b[49m\n",
      "\u001b[31mTypeError\u001b[39m: unsupported operand type(s) for *: 'float' and 'dict'"
     ]
    }
   ],
   "source": [
    "xyears2 = 5\n",
    "model.predict({'YearsExperience': xyears2})"
   ]
  },
  {
   "cell_type": "code",
   "execution_count": null,
   "id": "f10d4fa6",
   "metadata": {},
   "outputs": [],
   "source": []
  }
 ],
 "metadata": {
  "kernelspec": {
   "display_name": "venv",
   "language": "python",
   "name": "python3"
  },
  "language_info": {
   "codemirror_mode": {
    "name": "ipython",
    "version": 3
   },
   "file_extension": ".py",
   "mimetype": "text/x-python",
   "name": "python",
   "nbconvert_exporter": "python",
   "pygments_lexer": "ipython3",
   "version": "3.12.5"
  }
 },
 "nbformat": 4,
 "nbformat_minor": 5
}
